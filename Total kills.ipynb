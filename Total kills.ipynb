{
 "cells": [
  {
   "cell_type": "markdown",
   "metadata": {},
   "source": [
    "<h1>Dota 2 total kills analysis"
   ]
  },
  {
   "cell_type": "markdown",
   "metadata": {},
   "source": [
    "Bet365 gives 5/6 odds for the total kills of any given game to be above or below 50.5. Let's have a look at recent pro games to see whether this is an accurate splitting point."
   ]
  },
  {
   "cell_type": "markdown",
   "metadata": {},
   "source": [
    "Load in the matches from a csv file from datdota.com"
   ]
  },
  {
   "cell_type": "code",
   "execution_count": 1,
   "metadata": {},
   "outputs": [],
   "source": [
    "import pandas as pd\n",
    "import re\n",
    "import scipy.stats\n",
    "import math"
   ]
  },
  {
   "cell_type": "code",
   "execution_count": 2,
   "metadata": {},
   "outputs": [
    {
     "data": {
      "text/html": [
       "<div>\n",
       "<style scoped>\n",
       "    .dataframe tbody tr th:only-of-type {\n",
       "        vertical-align: middle;\n",
       "    }\n",
       "\n",
       "    .dataframe tbody tr th {\n",
       "        vertical-align: top;\n",
       "    }\n",
       "\n",
       "    .dataframe thead th {\n",
       "        text-align: right;\n",
       "    }\n",
       "</style>\n",
       "<table border=\"1\" class=\"dataframe\">\n",
       "  <thead>\n",
       "    <tr style=\"text-align: right;\">\n",
       "      <th></th>\n",
       "      <th>Match ID</th>\n",
       "      <th>Kills Score</th>\n",
       "    </tr>\n",
       "  </thead>\n",
       "  <tbody>\n",
       "    <tr>\n",
       "      <th>0</th>\n",
       "      <td>5718100700</td>\n",
       "      <td>31-41</td>\n",
       "    </tr>\n",
       "    <tr>\n",
       "      <th>1</th>\n",
       "      <td>5718045399</td>\n",
       "      <td>12-19</td>\n",
       "    </tr>\n",
       "    <tr>\n",
       "      <th>2</th>\n",
       "      <td>5717987182</td>\n",
       "      <td>23-3</td>\n",
       "    </tr>\n",
       "    <tr>\n",
       "      <th>3</th>\n",
       "      <td>5717905633</td>\n",
       "      <td>23-11</td>\n",
       "    </tr>\n",
       "    <tr>\n",
       "      <th>4</th>\n",
       "      <td>5717842177</td>\n",
       "      <td>23-5</td>\n",
       "    </tr>\n",
       "  </tbody>\n",
       "</table>\n",
       "</div>"
      ],
      "text/plain": [
       "     Match ID Kills Score\n",
       "0  5718100700       31-41\n",
       "1  5718045399       12-19\n",
       "2  5717987182        23-3\n",
       "3  5717905633       23-11\n",
       "4  5717842177        23-5"
      ]
     },
     "execution_count": 2,
     "metadata": {},
     "output_type": "execute_result"
    }
   ],
   "source": [
    "#Load the file\n",
    "df = pd.read_csv('Matches.csv')\n",
    "\n",
    "#We are just interested in the games IDs and the kill scores\n",
    "df = df[['Match ID', 'Kills Score']]\n",
    "df.head()"
   ]
  },
  {
   "cell_type": "markdown",
   "metadata": {},
   "source": [
    "We need total score rather than each teams score and so will add them together."
   ]
  },
  {
   "cell_type": "code",
   "execution_count": 3,
   "metadata": {},
   "outputs": [
    {
     "data": {
      "text/html": [
       "<div>\n",
       "<style scoped>\n",
       "    .dataframe tbody tr th:only-of-type {\n",
       "        vertical-align: middle;\n",
       "    }\n",
       "\n",
       "    .dataframe tbody tr th {\n",
       "        vertical-align: top;\n",
       "    }\n",
       "\n",
       "    .dataframe thead th {\n",
       "        text-align: right;\n",
       "    }\n",
       "</style>\n",
       "<table border=\"1\" class=\"dataframe\">\n",
       "  <thead>\n",
       "    <tr style=\"text-align: right;\">\n",
       "      <th></th>\n",
       "      <th>Match ID</th>\n",
       "      <th>Kills Score</th>\n",
       "    </tr>\n",
       "  </thead>\n",
       "  <tbody>\n",
       "    <tr>\n",
       "      <th>0</th>\n",
       "      <td>5718100700</td>\n",
       "      <td>72</td>\n",
       "    </tr>\n",
       "    <tr>\n",
       "      <th>1</th>\n",
       "      <td>5718045399</td>\n",
       "      <td>31</td>\n",
       "    </tr>\n",
       "    <tr>\n",
       "      <th>2</th>\n",
       "      <td>5717987182</td>\n",
       "      <td>26</td>\n",
       "    </tr>\n",
       "    <tr>\n",
       "      <th>3</th>\n",
       "      <td>5717905633</td>\n",
       "      <td>34</td>\n",
       "    </tr>\n",
       "    <tr>\n",
       "      <th>4</th>\n",
       "      <td>5717842177</td>\n",
       "      <td>28</td>\n",
       "    </tr>\n",
       "  </tbody>\n",
       "</table>\n",
       "</div>"
      ],
      "text/plain": [
       "     Match ID Kills Score\n",
       "0  5718100700          72\n",
       "1  5718045399          31\n",
       "2  5717987182          26\n",
       "3  5717905633          34\n",
       "4  5717842177          28"
      ]
     },
     "execution_count": 3,
     "metadata": {},
     "output_type": "execute_result"
    }
   ],
   "source": [
    "i=0\n",
    "for score in df['Kills Score']:\n",
    "    score_list = score.split('-')\n",
    "    df.iloc[i,1] = int(score_list[0]) + int(score_list[1])\n",
    "    i+=1\n",
    "    \n",
    "df.head()"
   ]
  },
  {
   "cell_type": "markdown",
   "metadata": {},
   "source": [
    "Let's group the scores together into easily viewable categories and take a look at what we have."
   ]
  },
  {
   "cell_type": "code",
   "execution_count": 4,
   "metadata": {},
   "outputs": [
    {
     "data": {
      "text/plain": [
       "<AxesSubplot:>"
      ]
     },
     "execution_count": 4,
     "metadata": {},
     "output_type": "execute_result"
    },
    {
     "data": {
      "image/png": "[encoded data removed]",
      "text/plain": [
       "<Figure size 432x288 with 1 Axes>"
      ]
     },
     "metadata": {
      "needs_background": "light"
     },
     "output_type": "display_data"
    }
   ],
   "source": [
    "categories = pd.cut(df['Kills Score'], 15)\n",
    "\n",
    "categories.value_counts(sort=False).plot.bar()"
   ]
  },
  {
   "cell_type": "markdown",
   "metadata": {},
   "source": [
    "52.5 does seem to be near the average but let's delve a litle deeper."
   ]
  },
  {
   "cell_type": "code",
   "execution_count": 5,
   "metadata": {},
   "outputs": [
    {
     "name": "stdout",
     "output_type": "stream",
     "text": [
      "The mean value is 49.33.\n",
      "The standard deviation is 14.61033169912551.\n",
      "56.68% of the scores are below 52.5.\n",
      "Betting on the lower total score will give an expected return of £0.0391333333333333 per £1 bet.\n"
     ]
    }
   ],
   "source": [
    "low_scores_proportion = df[df['Kills Score'] < 50.5].size/df.size\n",
    "print('The mean value is ' + str(df['Kills Score'].mean()) + '.')\n",
    "print('The standard deviation is ' + str(df['Kills Score'].std()) + '.')\n",
    "print(str(low_scores_proportion*100) + '% of the scores are below 52.5.')\n",
    "expected_return = (low_scores_proportion*(5/6)) - (1 - low_scores_proportion)\n",
    "print('Betting on the lower total score will give an expected return of £' + str(expected_return) + ' per £1 bet.')"
   ]
  },
  {
   "cell_type": "markdown",
   "metadata": {},
   "source": [
    "To have a positive expected return we require the low scoring games to make up over 6/11s of the games. Let's test the hypothesis that the proportion is more than this. So we assume that that in reality 6/11 games will have total scores higher than 50.5 and find the chances that our observed proportion is what we'll get."
   ]
  },
  {
   "cell_type": "code",
   "execution_count": 6,
   "metadata": {},
   "outputs": [
    {
     "name": "stdout",
     "output_type": "stream",
     "text": [
      "The chance that our observed number of low scoring games is more than the needed proportion is 99.99909384403406%.\n"
     ]
    }
   ],
   "source": [
    "#Set the variables of our binomial distribution based on this hypothesis X~B(6/11, n)\n",
    "p = 6/11\n",
    "q = 1 - p\n",
    "n = df.size\n",
    "\n",
    "#Approximate this as a normal distribution X~N(pn, pqn)\n",
    "mean = p*n\n",
    "var = p*q*n\n",
    "\n",
    "#P(X > low_scores_proportion*n) = P(Z > (low_scores*n - mean)/std)\n",
    "result = scipy.stats.norm(0, 1).cdf(((low_scores_proportion*n)-mean)/math.sqrt(var))\n",
    "print('The chance that our observed number of low scoring games is more than the needed proportion is ' + str(result*100) + '%.')"
   ]
  },
  {
   "cell_type": "markdown",
   "metadata": {},
   "source": [
    "We get such a high confidence since n is so massive."
   ]
  },
  {
   "cell_type": "code",
   "execution_count": null,
   "metadata": {},
   "outputs": [],
   "source": []
  }
 ],
 "metadata": {
  "kernelspec": {
   "display_name": "Python 3",
   "language": "python",
   "name": "python3"
  },
  "language_info": {
   "codemirror_mode": {
    "name": "ipython",
    "version": 3
   },
   "file_extension": ".py",
   "mimetype": "text/x-python",
   "name": "python",
   "nbconvert_exporter": "python",
   "pygments_lexer": "ipython3",
   "version": "3.8.6"
  }
 },
 "nbformat": 4,
 "nbformat_minor": 4
}
